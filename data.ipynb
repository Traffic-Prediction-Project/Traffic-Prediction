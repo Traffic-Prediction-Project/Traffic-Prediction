{
 "metadata": {
  "language_info": {
   "codemirror_mode": {
    "name": "ipython",
    "version": 3
   },
   "file_extension": ".py",
   "mimetype": "text/x-python",
   "name": "python",
   "nbconvert_exporter": "python",
   "pygments_lexer": "ipython3",
   "version": "3.8.1-final"
  },
  "orig_nbformat": 2,
  "kernelspec": {
   "name": "python3",
   "display_name": "Python 3",
   "language": "python"
  }
 },
 "nbformat": 4,
 "nbformat_minor": 2,
 "cells": [
  {
   "cell_type": "code",
   "execution_count": 1,
   "metadata": {
    "tags": []
   },
   "outputs": [
    {
     "output_type": "stream",
     "name": "stdout",
     "text": [
      "1024\n"
     ]
    }
   ],
   "source": [
    "with open('区域位置信息.txt','r') as f:\n",
    "    string = f.read()\n",
    "\n",
    "list = eval(string)\n",
    "print(len(list))\n"
   ]
  },
  {
   "cell_type": "code",
   "execution_count": 2,
   "metadata": {
    "tags": []
   },
   "outputs": [
    {
     "output_type": "stream",
     "name": "stdout",
     "text": [
      "2479\n"
     ]
    }
   ],
   "source": [
    "import csv\n",
    "\n",
    "csv_reader = csv.reader(open('上海区域交通信息.csv','r'))\n",
    "data = []\n",
    "for item in csv_reader:\n",
    "    data.append(item)\n",
    "\n",
    "print(len(data))\n"
   ]
  },
  {
   "cell_type": "code",
   "execution_count": 3,
   "metadata": {},
   "outputs": [
    {
     "output_type": "execute_result",
     "data": {
      "text/plain": [
       "                  time     r1   r2   r3   r4   r5   r6   r7     r8     r9  \\\n",
       "0  2020_10_29 13:39:03  0.200  0.0 -1.0 -1.0 -1.0 -1.0 -1.0  0.000  0.000   \n",
       "1  2020_10_29 13:40:00  0.200  0.0 -1.0 -1.0 -1.0 -1.0 -1.0  0.000  0.000   \n",
       "2  2020_10_29 14:00:00  0.333  0.5  0.5  0.5  0.5  0.5  0.5  0.167  0.167   \n",
       "3  2020_10_29 14:20:00  0.000  0.0 -1.0 -1.0 -1.0 -1.0 -1.0  0.000  0.000   \n",
       "4  2020_10_29 14:40:00  0.200  0.0 -1.0 -1.0 -1.0 -1.0 -1.0  0.000  0.000   \n",
       "\n",
       "   ...  r1015  r1016  r1017  r1018  r1019  r1020  r1021  r1022  r1023  r1024  \n",
       "0  ...    0.0    0.0    0.0    0.0    0.0    0.0    0.0    0.2    0.0    0.0  \n",
       "1  ...    0.0    0.0    0.0    0.0    0.0    0.0    0.0    0.0    0.0    0.0  \n",
       "2  ...    0.0    0.0    0.0    0.0    0.0    0.0    0.0    0.0    0.0    0.0  \n",
       "3  ...    0.0    0.0    0.0    0.0    0.0    0.0    0.0    0.0    0.0    0.0  \n",
       "4  ...    0.0    0.0    0.0    0.0    0.0    0.0    0.0    0.0    0.0    0.0  \n",
       "\n",
       "[5 rows x 1025 columns]"
      ],
      "text/html": "<div>\n<style scoped>\n    .dataframe tbody tr th:only-of-type {\n        vertical-align: middle;\n    }\n\n    .dataframe tbody tr th {\n        vertical-align: top;\n    }\n\n    .dataframe thead th {\n        text-align: right;\n    }\n</style>\n<table border=\"1\" class=\"dataframe\">\n  <thead>\n    <tr style=\"text-align: right;\">\n      <th></th>\n      <th>time</th>\n      <th>r1</th>\n      <th>r2</th>\n      <th>r3</th>\n      <th>r4</th>\n      <th>r5</th>\n      <th>r6</th>\n      <th>r7</th>\n      <th>r8</th>\n      <th>r9</th>\n      <th>...</th>\n      <th>r1015</th>\n      <th>r1016</th>\n      <th>r1017</th>\n      <th>r1018</th>\n      <th>r1019</th>\n      <th>r1020</th>\n      <th>r1021</th>\n      <th>r1022</th>\n      <th>r1023</th>\n      <th>r1024</th>\n    </tr>\n  </thead>\n  <tbody>\n    <tr>\n      <th>0</th>\n      <td>2020_10_29 13:39:03</td>\n      <td>0.200</td>\n      <td>0.0</td>\n      <td>-1.0</td>\n      <td>-1.0</td>\n      <td>-1.0</td>\n      <td>-1.0</td>\n      <td>-1.0</td>\n      <td>0.000</td>\n      <td>0.000</td>\n      <td>...</td>\n      <td>0.0</td>\n      <td>0.0</td>\n      <td>0.0</td>\n      <td>0.0</td>\n      <td>0.0</td>\n      <td>0.0</td>\n      <td>0.0</td>\n      <td>0.2</td>\n      <td>0.0</td>\n      <td>0.0</td>\n    </tr>\n    <tr>\n      <th>1</th>\n      <td>2020_10_29 13:40:00</td>\n      <td>0.200</td>\n      <td>0.0</td>\n      <td>-1.0</td>\n      <td>-1.0</td>\n      <td>-1.0</td>\n      <td>-1.0</td>\n      <td>-1.0</td>\n      <td>0.000</td>\n      <td>0.000</td>\n      <td>...</td>\n      <td>0.0</td>\n      <td>0.0</td>\n      <td>0.0</td>\n      <td>0.0</td>\n      <td>0.0</td>\n      <td>0.0</td>\n      <td>0.0</td>\n      <td>0.0</td>\n      <td>0.0</td>\n      <td>0.0</td>\n    </tr>\n    <tr>\n      <th>2</th>\n      <td>2020_10_29 14:00:00</td>\n      <td>0.333</td>\n      <td>0.5</td>\n      <td>0.5</td>\n      <td>0.5</td>\n      <td>0.5</td>\n      <td>0.5</td>\n      <td>0.5</td>\n      <td>0.167</td>\n      <td>0.167</td>\n      <td>...</td>\n      <td>0.0</td>\n      <td>0.0</td>\n      <td>0.0</td>\n      <td>0.0</td>\n      <td>0.0</td>\n      <td>0.0</td>\n      <td>0.0</td>\n      <td>0.0</td>\n      <td>0.0</td>\n      <td>0.0</td>\n    </tr>\n    <tr>\n      <th>3</th>\n      <td>2020_10_29 14:20:00</td>\n      <td>0.000</td>\n      <td>0.0</td>\n      <td>-1.0</td>\n      <td>-1.0</td>\n      <td>-1.0</td>\n      <td>-1.0</td>\n      <td>-1.0</td>\n      <td>0.000</td>\n      <td>0.000</td>\n      <td>...</td>\n      <td>0.0</td>\n      <td>0.0</td>\n      <td>0.0</td>\n      <td>0.0</td>\n      <td>0.0</td>\n      <td>0.0</td>\n      <td>0.0</td>\n      <td>0.0</td>\n      <td>0.0</td>\n      <td>0.0</td>\n    </tr>\n    <tr>\n      <th>4</th>\n      <td>2020_10_29 14:40:00</td>\n      <td>0.200</td>\n      <td>0.0</td>\n      <td>-1.0</td>\n      <td>-1.0</td>\n      <td>-1.0</td>\n      <td>-1.0</td>\n      <td>-1.0</td>\n      <td>0.000</td>\n      <td>0.000</td>\n      <td>...</td>\n      <td>0.0</td>\n      <td>0.0</td>\n      <td>0.0</td>\n      <td>0.0</td>\n      <td>0.0</td>\n      <td>0.0</td>\n      <td>0.0</td>\n      <td>0.0</td>\n      <td>0.0</td>\n      <td>0.0</td>\n    </tr>\n  </tbody>\n</table>\n<p>5 rows × 1025 columns</p>\n</div>"
     },
     "metadata": {},
     "execution_count": 3
    }
   ],
   "source": [
    "import pandas as pd\n",
    "\n",
    "res = pd.read_csv('上海区域交通信息.csv')\n",
    "res.head()"
   ]
  },
  {
   "cell_type": "code",
   "execution_count": 4,
   "metadata": {},
   "outputs": [
    {
     "output_type": "stream",
     "name": "stdout",
     "text": [
      "[[ 0.2    0.    -1.    ...  0.2    0.     0.   ]\n [ 0.2    0.    -1.    ...  0.     0.     0.   ]\n [ 0.333  0.5    0.5   ...  0.     0.     0.   ]\n ...\n [ 0.     0.    -1.    ...  0.     0.     0.   ]\n [ 0.4    0.667 -1.    ...  0.143  0.333  0.333]\n [ 0.4    0.667 -1.    ...  0.286  0.167  0.333]]\n"
     ]
    }
   ],
   "source": [
    "import numpy as np\n",
    "info = np.array(res.iloc[:,1:])\n",
    "print(info)\n",
    "\n"
   ]
  },
  {
   "cell_type": "code",
   "execution_count": 5,
   "metadata": {
    "tags": []
   },
   "outputs": [
    {
     "output_type": "stream",
     "name": "stdout",
     "text": [
      "[[0.2   0.    0.    ... 0.2   0.    0.   ]\n [0.2   0.    0.    ... 0.    0.    0.   ]\n [0.333 0.5   0.    ... 0.    0.    0.   ]\n ...\n [0.    0.    0.    ... 0.    0.    0.   ]\n [0.4   0.667 0.    ... 0.143 0.333 0.333]\n [0.4   0.667 0.    ... 0.286 0.167 0.333]]\n"
     ]
    }
   ],
   "source": [
    "def drop_none(info):\n",
    "    rows,cols=info.shape\n",
    "    info_cpy = info.copy()\n",
    "\n",
    "    for j in range(0,cols):\n",
    "        num = 0\n",
    "        sum = 0\n",
    "        for i in range(0,rows):\n",
    "            if info[i][j]>=0:\n",
    "                sum = sum + info[i][j]\n",
    "                num = num + 1\n",
    "        avg = sum/num\n",
    "\n",
    "        if num < (rows/2):\n",
    "            info_cpy[:,j] = 0\n",
    "        else:\n",
    "            for i in range(0,rows):\n",
    "                if info[i][j]<0:\n",
    "                    info_cpy[i][j] = round(avg,3)\n",
    "    \n",
    "    return info_cpy\n",
    "\n",
    "info_cpy = drop_none(info)\n",
    "print(info_cpy)\n"
   ]
  },
  {
   "cell_type": "code",
   "execution_count": 6,
   "metadata": {},
   "outputs": [
    {
     "output_type": "stream",
     "name": "stdout",
     "text": [
      "[[2. 0. 0. ... 2. 0. 0.]\n [2. 0. 0. ... 0. 0. 0.]\n [3. 5. 0. ... 0. 0. 0.]\n ...\n [0. 0. 0. ... 0. 0. 0.]\n [4. 7. 0. ... 1. 3. 3.]\n [4. 7. 0. ... 3. 2. 3.]]\n"
     ]
    }
   ],
   "source": [
    "info_int = np.rint(info_cpy*10)\n",
    "print(info_int)"
   ]
  },
  {
   "cell_type": "code",
   "execution_count": 7,
   "metadata": {},
   "outputs": [
    {
     "output_type": "stream",
     "name": "stdout",
     "text": [
      "[3.         3.169925   0.         ... 2.80735492 2.5849625  2.80735492]\n"
     ]
    }
   ],
   "source": [
    "def random_entropy(info):\n",
    "    re = np.zeros(info.shape[1])\n",
    "    len = info.shape[1]\n",
    "    for i in np.arange(0, len):\n",
    "        unique = np.unique(info[:,i])\n",
    "        N = unique.shape[0]\n",
    "        re[i] = np.log2(N)\n",
    "    \n",
    "    return re\n",
    "\n",
    "re = random_entropy(info_int)\n",
    "print(re)\n",
    "    \n",
    "        "
   ]
  },
  {
   "cell_type": "code",
   "execution_count": 8,
   "metadata": {},
   "outputs": [
    {
     "output_type": "stream",
     "name": "stdout",
     "text": [
      "(2478, 1024)\n2.807354922057604\n"
     ]
    }
   ],
   "source": [
    "print(info_int.shape)\n",
    "print(np.log2(np.unique(info_int[:,info_int.shape[1]-1]).shape[0]))"
   ]
  },
  {
   "cell_type": "code",
   "execution_count": 9,
   "metadata": {},
   "outputs": [
    {
     "output_type": "stream",
     "name": "stdout",
     "text": [
      "[2.14038312 2.0912635  0.         ... 1.61279104 1.12465446 1.14221731]\n"
     ]
    }
   ],
   "source": [
    "def shannon_entropy(info):\n",
    "    se = np.zeros(info.shape[1])\n",
    "    len = info.shape[1]\n",
    "    size = info.shape[0]\n",
    "    # 计算每一列\n",
    "    for i in np.arange(0,len):\n",
    "        unique = np.unique(info[:,i])\n",
    "        tmp = 0\n",
    "        # 计算每一列中每个数值出现的概率\n",
    "        for j in np.arange(0, unique.shape[0]):\n",
    "            num = np.sum(info_int[:,i]==unique[j])\n",
    "            p = num/size\n",
    "            tmp += -(p*np.log2(p))\n",
    "\n",
    "        se[i] = tmp\n",
    "\n",
    "    return se\n",
    "\n",
    "se = shannon_entropy(info_int)\n",
    "print(se)\n",
    "\n",
    "\n",
    "\n"
   ]
  },
  {
   "cell_type": "code",
   "execution_count": 10,
   "metadata": {},
   "outputs": [
    {
     "output_type": "stream",
     "name": "stdout",
     "text": [
      "[6.08996324 6.06706864 7.79319239 ... 6.32671777 6.75482494 6.73134623]\n"
     ]
    }
   ],
   "source": [
    "def real_entropy(info):\n",
    "    re = np.zeros(info.shape[1])\n",
    "    len1 = info.shape[1]\n",
    "    size = info.shape[0]\n",
    "    # 计算每一列\n",
    "    for i in np.arange(0,len1):\n",
    "        unique = np.unique(info[:,i])\n",
    "        stlist = [ str(int(k)) for k in unique]\n",
    "\n",
    "        p = \"\"\n",
    "        for c in info[:,i]:\n",
    "            pc = p + str(int(c))\n",
    "            if pc in stlist:\n",
    "                p = pc\n",
    "            else:\n",
    "                stlist.append(pc)\n",
    "                p = str(int(c))\n",
    "        \n",
    "        sum = 0\n",
    "        for st in stlist:\n",
    "            sum += len(st)\n",
    "        \n",
    "        re[i] = (size/sum)*np.log(size)\n",
    "    return re\n",
    "\n",
    "real = real_entropy(info_int)\n",
    "print(real)"
   ]
  },
  {
   "cell_type": "code",
   "execution_count": 17,
   "metadata": {},
   "outputs": [
    {
     "output_type": "stream",
     "name": "stdout",
     "text": [
      "[0.125      0.11111111 0.1        ... 0.14285714 0.16666667 0.14285714]\n"
     ]
    }
   ],
   "source": [
    "def findx(info, e, n):\n",
    "    # e: 代表熵， 是个数组；n: 代表迭代轮数\n",
    "    row = info.shape[0]\n",
    "    col = info.shape[1]\n",
    "    res = np.zeros(col)\n",
    "\n",
    "    # 对于每一列来说：\n",
    "    for i in np.arange(0, col):\n",
    "        x = 0.1\n",
    "        N = np.unique(info[:,i]).shape[0]\n",
    "        S = e[i]\n",
    "        # 计算x近似值\n",
    "        if N>1:\n",
    "            for j in np.arange(0, n):\n",
    "                fx = -x*np.log2(x)-(1-x)*np.log2(1-x)+(1-x)*np.log2(N-1)-S\n",
    "                fx2 = np.log2(1-x)-np.log2(x)-np.log2(N-1)\n",
    "                if fx2!=0:\n",
    "                    x = x-fx/fx2\n",
    "        res[i] = x\n",
    "    return res\n",
    "\n",
    "x = findx(info_int, re, 100)\n",
    "print(x)\n"
   ]
  },
  {
   "cell_type": "code",
   "execution_count": 31,
   "metadata": {
    "tags": []
   },
   "outputs": [
    {
     "output_type": "stream",
     "name": "stdout",
     "text": [
      "1 : -0.0009294078530306393\n",
      "8 : -0.0009294078530306393\n",
      "22 : -0.0009294078530306393\n",
      "25 : -0.0009294078530306393\n",
      "32 : -0.0009294078530306393\n",
      "34 : -0.0009294078530306393\n",
      "38 : -0.0009294078530306393\n",
      "40 : -0.0009294078530306393\n",
      "57 : 0.0\n",
      "58 : -0.0009294078530306393\n",
      "59 : -0.0009294078530306393\n",
      "65 : -0.0009294078530306393\n",
      "68 : -0.0009294078530306393\n",
      "70 : -0.0009294078530306393\n",
      "71 : -0.0009294078530306393\n",
      "73 : -0.0009294078530306393\n",
      "74 : 0.0\n",
      "75 : -0.000700739649389881\n",
      "85 : 0.0\n",
      "89 : -0.0009294078530306393\n",
      "91 : -0.0009294078530306393\n",
      "100 : -0.0009294078530306393\n",
      "110 : -0.0009294078530306393\n",
      "119 : -0.0009294078530306393\n",
      "129 : -0.0009294078530306393\n",
      "130 : -0.0009294078530306393\n",
      "139 : -0.0009294078530306393\n",
      "151 : -0.0009294078530306393\n",
      "152 : -0.0009294078530306393\n",
      "169 : -0.0009294078530306393\n",
      "184 : -0.0009294078530306393\n",
      "185 : 0.0\n",
      "187 : -0.0009294078530306393\n",
      "188 : -0.0009294078530306393\n",
      "193 : -0.0009294078530306393\n",
      "194 : 0.0\n",
      "214 : -0.0009294078530306393\n",
      "215 : -0.0009294078530306393\n",
      "217 : -0.0009294078530306393\n",
      "224 : -0.0009294078530306393\n",
      "225 : -0.0009294078530306393\n",
      "230 : -0.0009294078530306393\n",
      "249 : -0.0009294078530306393\n",
      "287 : -0.0009294078530306393\n",
      "289 : -0.0009294078530306393\n",
      "290 : -0.000700739649389881\n",
      "316 : -0.0009294078530306393\n",
      "318 : -0.0009294078530306393\n",
      "319 : -0.0009294078530306393\n",
      "320 : -0.0009294078530306393\n",
      "322 : -0.000700739649389881\n",
      "323 : -0.0009294078530306393\n",
      "324 : 0.0\n",
      "347 : -0.0009294078530306393\n",
      "348 : -0.0009294078530306393\n",
      "353 : -0.0009294078530306393\n",
      "354 : 0.0\n",
      "355 : -0.000700739649389881\n",
      "378 : -0.0009294078530306393\n",
      "379 : -0.0009294078530306393\n",
      "384 : -0.0009294078530306393\n",
      "387 : 0.0\n",
      "408 : -0.0009294078530306393\n",
      "417 : -0.0009294078530306393\n",
      "418 : -0.000700739649389881\n",
      "419 : -0.0009294078530306393\n",
      "420 : -0.0009294078530306393\n",
      "440 : -0.000700739649389881\n",
      "450 : -0.0009294078530306393\n",
      "480 : 0.0\n",
      "488 : -0.0009294078530306393\n",
      "512 : -0.0009294078530306393\n",
      "517 : -0.0009294078530306393\n",
      "720 : -0.0009294078530306393\n",
      "778 : -0.0009294078530306393\n",
      "885 : -0.0009294078530306393\n",
      "939 : -0.0009294078530306393\n",
      "944 : -0.0009294078530306393\n"
     ]
    }
   ],
   "source": [
    "def aa(info, e, x, mask):\n",
    "    # e: 代表熵， 是个数组；n: 代表迭代轮数\n",
    "    row = info.shape[0]\n",
    "    col = info.shape[1]\n",
    "    res = np.zeros(col)\n",
    "\n",
    "    # 对于每一列来说：\n",
    "    for i in np.arange(0, col):\n",
    "        if mask[i]==1:\n",
    "            x = 0.1\n",
    "            N = np.unique(info[:,i]).shape[0]\n",
    "            S = e[i]\n",
    "            fx = -x*np.log2(x)-(1-x)*np.log2(1-x)+(1-x)*np.log2(N-1)-S\n",
    "            \n",
    "            if abs(fx)<0.001:\n",
    "                print(i,\":\",fx)\n",
    "\n",
    "aa(info_int, re, x, mask)\n"
   ]
  },
  {
   "cell_type": "code",
   "execution_count": 28,
   "metadata": {},
   "outputs": [],
   "source": [
    "def get_mask(info):\n",
    "    row = info.shape[0]\n",
    "    col = info.shape[1]\n",
    "\n",
    "    mask = np.zeros(col)\n",
    "    for i in np.arange(0, col):\n",
    "        bg0 = np.sum(info[:,i]>=0)\n",
    "        if bg0 >= info.shape[0]*0.8:\n",
    "            mask[i] = 1\n",
    "        else:\n",
    "            mask[i] = 0\n",
    "    return mask\n",
    "\n",
    "mask = get_mask(info)"
   ]
  },
  {
   "cell_type": "code",
   "execution_count": null,
   "metadata": {},
   "outputs": [],
   "source": []
  }
 ]
}